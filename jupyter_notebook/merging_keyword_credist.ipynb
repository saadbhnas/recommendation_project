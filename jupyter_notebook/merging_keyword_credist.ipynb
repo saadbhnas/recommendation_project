{
 "cells": [
  {
   "cell_type": "code",
   "execution_count": null,
   "id": "48695b65",
   "metadata": {},
   "outputs": [],
   "source": [
    "import pandas as pd \n",
    "import os\n",
    "import json\n",
    "import numpy as np\n",
    "import re \n",
    "from sklearn.base import TransformerMixin , BaseEstimator"
   ]
  },
  {
   "cell_type": "code",
   "execution_count": null,
   "id": "43b4e1f0",
   "metadata": {},
   "outputs": [],
   "source": [
    "credits = pd.read_csv(r'C:\\Users\\saadb\\recommendation_project\\recommendation_model\\dataset\\credits.csv')"
   ]
  },
  {
   "cell_type": "code",
   "execution_count": null,
   "id": "f795b9b8",
   "metadata": {},
   "outputs": [],
   "source": [
    "kewords = pd.read_csv(r'C:\\Users\\saadb\\recommendation_project\\recommendation_model\\dataset\\keywords.csv')"
   ]
  },
  {
   "cell_type": "code",
   "execution_count": null,
   "id": "d53e0677",
   "metadata": {},
   "outputs": [],
   "source": [
    "credits.head(5)"
   ]
  },
  {
   "cell_type": "code",
   "execution_count": null,
   "id": "9ca7ab61",
   "metadata": {},
   "outputs": [],
   "source": [
    "kewords.head(5)"
   ]
  },
  {
   "cell_type": "code",
   "execution_count": null,
   "id": "219a4985",
   "metadata": {},
   "outputs": [],
   "source": [
    "credits.info()"
   ]
  },
  {
   "cell_type": "code",
   "execution_count": null,
   "id": "64ac0b56",
   "metadata": {},
   "outputs": [],
   "source": [
    "credits.isna().sum()"
   ]
  },
  {
   "cell_type": "code",
   "execution_count": null,
   "id": "6ea3702f",
   "metadata": {},
   "outputs": [],
   "source": [
    "credits.cast[0]"
   ]
  },
  {
   "cell_type": "code",
   "execution_count": null,
   "id": "013f5494",
   "metadata": {},
   "outputs": [],
   "source": [
    "def handle_json(x):\n",
    "    try :\n",
    "        \n",
    "        x = x.replace(\"'\",'\"')\n",
    "    \n",
    "        x = json.loads(x)\n",
    "        \n",
    "    except :\n",
    "        return np.nan\n",
    "    \n",
    "    return x"
   ]
  },
  {
   "cell_type": "code",
   "execution_count": null,
   "id": "2c7a01f6",
   "metadata": {},
   "outputs": [],
   "source": [
    "number_of_nones = re.findall(r'\\bNone\\b',credits['cast'][1])\n",
    "for i in range(len(number_of_nones)):\n",
    "    match = re.search(r'\\bNone\\b',credits['cast'][1])\n",
    "    if match:\n",
    "        credits['cast'][1] = credits['cast'][1].replace('None','\"missing\"')"
   ]
  },
  {
   "cell_type": "code",
   "execution_count": null,
   "id": "305ef89f",
   "metadata": {},
   "outputs": [],
   "source": [
    "def handle_json_better(x):\n",
    "    number_of_nones = re.findall(r'\\bNone\\b',x)\n",
    "    \n",
    "    for i in range(len(number_of_nones)):\n",
    "        match = re.search(r'\\bNone\\b',x)\n",
    "        if match :\n",
    "            x = x.replace('None' , '\"missing\"')\n",
    "    \n",
    "    try :\n",
    "        \n",
    "        x = x.replace(\"'\",'\"')\n",
    "    \n",
    "        x = json.loads(x)\n",
    "        \n",
    "    except :\n",
    "        \n",
    "        x = np.nan\n",
    "        \n",
    "    return x\n",
    "    "
   ]
  },
  {
   "cell_type": "code",
   "execution_count": null,
   "id": "b40e9857",
   "metadata": {},
   "outputs": [],
   "source": [
    "handle_json_better(credits['cast'][0])"
   ]
  },
  {
   "cell_type": "code",
   "execution_count": null,
   "id": "beee5f07",
   "metadata": {},
   "outputs": [],
   "source": [
    "credits['cast'] = credits['cast'].apply(lambda x : handle_json_better(x))"
   ]
  },
  {
   "cell_type": "code",
   "execution_count": null,
   "id": "95d6aefe",
   "metadata": {},
   "outputs": [],
   "source": [
    "credits['cast']"
   ]
  },
  {
   "cell_type": "code",
   "execution_count": null,
   "id": "e8c12444",
   "metadata": {},
   "outputs": [],
   "source": [
    "def get_cast_names(x):\n",
    "    y = []\n",
    "    count = 0\n",
    "    if x == []:\n",
    "        return np.nan\n",
    "    elif x == '':\n",
    "        return np.nan\n",
    "    else:\n",
    "        for i in x:\n",
    "            if count < 4:\n",
    "                y.append(i['name'])\n",
    "                count += 1\n",
    "        x = '|'.join(y)\n",
    "        return x\n",
    "    \n",
    "        if isinstance(x,list):\n",
    "            return get_cast_names(x)\n",
    "    "
   ]
  },
  {
   "cell_type": "code",
   "execution_count": null,
   "id": "e5f47c4c",
   "metadata": {},
   "outputs": [],
   "source": [
    "def get_main_cast_names(x):\n",
    "    if x == []:\n",
    "        return np.nan\n",
    "    elif x == '':\n",
    "        return np.nan\n",
    "    else :\n",
    "        if x[0]['name'] == '' :\n",
    "            return np.nan\n",
    "        elif x[0]['name']:\n",
    "            return x[0]['name']\n",
    "    return x"
   ]
  },
  {
   "cell_type": "code",
   "execution_count": null,
   "id": "8abe3247",
   "metadata": {},
   "outputs": [],
   "source": [
    "def get_main_cast_gender(x):\n",
    "    if x == []:\n",
    "        return np.nan\n",
    "    elif x == '':\n",
    "        return np.nan\n",
    "    else :\n",
    "        if x[0]['gender'] == 1:\n",
    "            return 'F'\n",
    "        elif x[0]['gender'] == 2:\n",
    "            return 'M'\n",
    "        else :\n",
    "            return np.nan\n",
    "        \n",
    "    return x"
   ]
  },
  {
   "cell_type": "code",
   "execution_count": null,
   "id": "fd9d92d2",
   "metadata": {},
   "outputs": [],
   "source": [
    "credits['cast_names'] = credits['cast'].apply(lambda x : get_cast_names(x) if isinstance(x,list) else np.nan)"
   ]
  },
  {
   "cell_type": "code",
   "execution_count": null,
   "id": "ad268b63",
   "metadata": {},
   "outputs": [],
   "source": [
    "credits['cast_main_name'] = credits['cast'].apply(lambda x : get_main_cast_names(x) if isinstance(x,list) else np.nan)"
   ]
  },
  {
   "cell_type": "code",
   "execution_count": null,
   "id": "ef17c9b1",
   "metadata": {},
   "outputs": [],
   "source": [
    "credits['cast_main_gender'] = credits['cast'].apply(lambda x : get_main_cast_gender(x) if isinstance(x,list) else np.nan)"
   ]
  },
  {
   "cell_type": "code",
   "execution_count": null,
   "id": "afaaea8a",
   "metadata": {},
   "outputs": [],
   "source": [
    "credits['crew'] = credits['crew'].apply(lambda x : handle_json_better(x))"
   ]
  },
  {
   "cell_type": "code",
   "execution_count": null,
   "id": "d302a2c7",
   "metadata": {},
   "outputs": [],
   "source": [
    "def get_director(x):\n",
    "    if x == []:\n",
    "        return np.nan\n",
    "    elif x == '':\n",
    "        return np.nan\n",
    "    else :\n",
    "        for i in x:\n",
    "            if i['department'] == 'Directing':\n",
    "                x = i['name']\n",
    "        return x"
   ]
  },
  {
   "cell_type": "code",
   "execution_count": null,
   "id": "3c3b8d9a",
   "metadata": {},
   "outputs": [],
   "source": [
    "def get_writer(x):\n",
    "    y = []\n",
    "    if x == []:\n",
    "        return np.nan\n",
    "    elif x == '':\n",
    "        return np.nan\n",
    "    else :\n",
    "        for i in x:\n",
    "            if i['department'] == 'Writing':\n",
    "                y.append(i['name'])\n",
    "        x = '|'.join(y)\n",
    "        return x"
   ]
  },
  {
   "cell_type": "code",
   "execution_count": null,
   "id": "ea183c05",
   "metadata": {},
   "outputs": [],
   "source": [
    "def get_producer(x):\n",
    "    if x == []:\n",
    "        return np.nan\n",
    "    elif x == '':\n",
    "        return np.nan\n",
    "    else :\n",
    "        for i in x:\n",
    "            if i['department'] == 'Production':\n",
    "                x = i['name']\n",
    "        return x "
   ]
  },
  {
   "cell_type": "code",
   "execution_count": null,
   "id": "27ae698a",
   "metadata": {},
   "outputs": [],
   "source": [
    "credits['Director'] = credits['crew'].apply(lambda x : get_director(x) if isinstance(x,list) else np.nan)"
   ]
  },
  {
   "cell_type": "code",
   "execution_count": null,
   "id": "1e8956e7",
   "metadata": {},
   "outputs": [],
   "source": [
    "credits['Writers'] = credits['crew'].apply(lambda x : get_writer(x) if isinstance(x,list) else np.nan)"
   ]
  },
  {
   "cell_type": "code",
   "execution_count": null,
   "id": "12a876cd",
   "metadata": {},
   "outputs": [],
   "source": [
    "credits['Producer'] = credits['crew'].apply(lambda x : get_producer(x) if isinstance(x,list) else np.nan)"
   ]
  },
  {
   "cell_type": "code",
   "execution_count": null,
   "id": "0e8ba2a7",
   "metadata": {},
   "outputs": [],
   "source": [
    "credits['Producer'] = credits['Producer'].apply(lambda x : x if isinstance(x,str) else np.nan)"
   ]
  },
  {
   "cell_type": "code",
   "execution_count": null,
   "id": "43a18a1f",
   "metadata": {},
   "outputs": [],
   "source": [
    "credits.info()"
   ]
  },
  {
   "cell_type": "markdown",
   "id": "6cae1a29",
   "metadata": {},
   "source": [
    "now we finished creating something useful from the json format we got we extracted main charater name and first 4 cast from the whole actors from cast and from crew we extracted producer , writer and director also main cast gender from the cast column ."
   ]
  },
  {
   "cell_type": "code",
   "execution_count": null,
   "id": "27399114",
   "metadata": {},
   "outputs": [],
   "source": [
    "def get_keywords(x):\n",
    "    y = []\n",
    "    if x == []:\n",
    "        return np.nan\n",
    "    elif x == '':\n",
    "        return np.nan\n",
    "    else :\n",
    "        for i in x:\n",
    "            y.append(i['name'])\n",
    "        x = '|'.join(y)\n",
    "        return x"
   ]
  },
  {
   "cell_type": "code",
   "execution_count": null,
   "id": "fef33b27",
   "metadata": {},
   "outputs": [],
   "source": [
    "kewords['keywords'] = kewords['keywords'].apply(lambda x : handle_json_better(x))"
   ]
  },
  {
   "cell_type": "code",
   "execution_count": null,
   "id": "cdb425b3",
   "metadata": {},
   "outputs": [],
   "source": [
    "kewords['keywords'] = kewords['keywords'].apply(lambda x : get_keywords(x) if isinstance(x,list) else np.nan)"
   ]
  },
  {
   "cell_type": "code",
   "execution_count": null,
   "id": "74f7793b",
   "metadata": {},
   "outputs": [],
   "source": [
    "movies_metadata = pd.read_csv(r'C:\\Users\\saadb\\recommendation_project\\jupyter_notebook\\datasets\\movies_cleaned.csv')"
   ]
  },
  {
   "cell_type": "code",
   "execution_count": null,
   "id": "24fa0a8d",
   "metadata": {},
   "outputs": [],
   "source": [
    "movies_metadata.head(3)"
   ]
  },
  {
   "cell_type": "code",
   "execution_count": null,
   "id": "aefa6980",
   "metadata": {},
   "outputs": [],
   "source": [
    "movies_metadata.info()"
   ]
  },
  {
   "cell_type": "code",
   "execution_count": null,
   "id": "a21799bf",
   "metadata": {},
   "outputs": [],
   "source": [
    "movies_metadata.dropna(subset=['id'],axis='rows',inplace=True)"
   ]
  },
  {
   "cell_type": "code",
   "execution_count": 108,
   "id": "335dd98c",
   "metadata": {},
   "outputs": [],
   "source": [
    "movies_metadata['id'] = movies_metadata['id'].astype(int,errors='raise')"
   ]
  },
  {
   "cell_type": "code",
   "execution_count": null,
   "id": "3ac18d32",
   "metadata": {},
   "outputs": [],
   "source": [
    "y = []\n",
    "for i in movies_metadata['id']:\n",
    "    if '-' in i:\n",
    "        y.append(i)  \n",
    "y        "
   ]
  },
  {
   "cell_type": "code",
   "execution_count": null,
   "id": "723e1d6a",
   "metadata": {},
   "outputs": [],
   "source": [
    "movies_metadata.drop(19719,inplace=True)"
   ]
  },
  {
   "cell_type": "code",
   "execution_count": null,
   "id": "cb653994",
   "metadata": {},
   "outputs": [],
   "source": [
    "movies_metadata.drop(29474,inplace=True)"
   ]
  },
  {
   "cell_type": "code",
   "execution_count": null,
   "id": "64d9bf05",
   "metadata": {},
   "outputs": [],
   "source": [
    "movies_metadata.drop(35552,inplace=True)"
   ]
  },
  {
   "cell_type": "code",
   "execution_count": 107,
   "id": "528dd17c",
   "metadata": {},
   "outputs": [
    {
     "data": {
      "text/plain": [
       "dtype('O')"
      ]
     },
     "execution_count": 107,
     "metadata": {},
     "output_type": "execute_result"
    }
   ],
   "source": [
    "movies_metadata['id'].dtype"
   ]
  },
  {
   "cell_type": "code",
   "execution_count": null,
   "id": "3f3c2772",
   "metadata": {},
   "outputs": [],
   "source": [
    "movies_metadata.id.value_counts()"
   ]
  },
  {
   "cell_type": "code",
   "execution_count": 109,
   "id": "70e50418",
   "metadata": {},
   "outputs": [
    {
     "data": {
      "text/html": [
       "<div>\n",
       "<style scoped>\n",
       "    .dataframe tbody tr th:only-of-type {\n",
       "        vertical-align: middle;\n",
       "    }\n",
       "\n",
       "    .dataframe tbody tr th {\n",
       "        vertical-align: top;\n",
       "    }\n",
       "\n",
       "    .dataframe thead th {\n",
       "        text-align: right;\n",
       "    }\n",
       "</style>\n",
       "<table border=\"1\" class=\"dataframe\">\n",
       "  <thead>\n",
       "    <tr style=\"text-align: right;\">\n",
       "      <th></th>\n",
       "      <th>adult</th>\n",
       "      <th>belongs_to_collection</th>\n",
       "      <th>budget</th>\n",
       "      <th>genres</th>\n",
       "      <th>id</th>\n",
       "      <th>original_language</th>\n",
       "      <th>original_title</th>\n",
       "      <th>overview</th>\n",
       "      <th>popularity</th>\n",
       "      <th>production_companies</th>\n",
       "      <th>...</th>\n",
       "      <th>release_date</th>\n",
       "      <th>revenue</th>\n",
       "      <th>runtime</th>\n",
       "      <th>spoken_languages</th>\n",
       "      <th>status</th>\n",
       "      <th>tagline</th>\n",
       "      <th>title</th>\n",
       "      <th>video</th>\n",
       "      <th>vote_average</th>\n",
       "      <th>vote_count</th>\n",
       "    </tr>\n",
       "  </thead>\n",
       "  <tbody>\n",
       "  </tbody>\n",
       "</table>\n",
       "<p>0 rows × 21 columns</p>\n",
       "</div>"
      ],
      "text/plain": [
       "Empty DataFrame\n",
       "Columns: [adult, belongs_to_collection, budget, genres, id, original_language, original_title, overview, popularity, production_companies, production_countries, release_date, revenue, runtime, spoken_languages, status, tagline, title, video, vote_average, vote_count]\n",
       "Index: []\n",
       "\n",
       "[0 rows x 21 columns]"
      ]
     },
     "execution_count": 109,
     "metadata": {},
     "output_type": "execute_result"
    }
   ],
   "source": [
    "movies_metadata[movies_metadata.duplicated(subset=['id'],keep=False)].sort_values('id')"
   ]
  },
  {
   "cell_type": "code",
   "execution_count": null,
   "id": "ae94646c",
   "metadata": {},
   "outputs": [],
   "source": [
    "movies_metadata.drop_duplicates(subset=['id'],inplace=True)"
   ]
  },
  {
   "cell_type": "code",
   "execution_count": 110,
   "id": "74cd5f8f",
   "metadata": {},
   "outputs": [
    {
     "data": {
      "text/html": [
       "<div>\n",
       "<style scoped>\n",
       "    .dataframe tbody tr th:only-of-type {\n",
       "        vertical-align: middle;\n",
       "    }\n",
       "\n",
       "    .dataframe tbody tr th {\n",
       "        vertical-align: top;\n",
       "    }\n",
       "\n",
       "    .dataframe thead th {\n",
       "        text-align: right;\n",
       "    }\n",
       "</style>\n",
       "<table border=\"1\" class=\"dataframe\">\n",
       "  <thead>\n",
       "    <tr style=\"text-align: right;\">\n",
       "      <th></th>\n",
       "      <th>adult</th>\n",
       "      <th>belongs_to_collection</th>\n",
       "      <th>budget</th>\n",
       "      <th>genres</th>\n",
       "      <th>id</th>\n",
       "      <th>original_language</th>\n",
       "      <th>original_title</th>\n",
       "      <th>overview</th>\n",
       "      <th>popularity</th>\n",
       "      <th>production_companies</th>\n",
       "      <th>...</th>\n",
       "      <th>release_date</th>\n",
       "      <th>revenue</th>\n",
       "      <th>runtime</th>\n",
       "      <th>spoken_languages</th>\n",
       "      <th>status</th>\n",
       "      <th>tagline</th>\n",
       "      <th>title</th>\n",
       "      <th>video</th>\n",
       "      <th>vote_average</th>\n",
       "      <th>vote_count</th>\n",
       "    </tr>\n",
       "  </thead>\n",
       "  <tbody>\n",
       "    <tr>\n",
       "      <th>42828</th>\n",
       "      <td>False</td>\n",
       "      <td>NaN</td>\n",
       "      <td>NaN</td>\n",
       "      <td>missing</td>\n",
       "      <td>401840</td>\n",
       "      <td>es</td>\n",
       "      <td>School's out</td>\n",
       "      <td>Two high school kids mentored by a nightclub o...</td>\n",
       "      <td>0.207775</td>\n",
       "      <td>missing</td>\n",
       "      <td>...</td>\n",
       "      <td>2017-05-30</td>\n",
       "      <td>NaN</td>\n",
       "      <td>NaN</td>\n",
       "      <td>missing</td>\n",
       "      <td>Released</td>\n",
       "      <td>NaN</td>\n",
       "      <td>School's out</td>\n",
       "      <td>False</td>\n",
       "      <td>0.0</td>\n",
       "      <td>0.0</td>\n",
       "    </tr>\n",
       "  </tbody>\n",
       "</table>\n",
       "<p>1 rows × 21 columns</p>\n",
       "</div>"
      ],
      "text/plain": [
       "       adult belongs_to_collection  budget   genres      id original_language  \\\n",
       "42828  False                   NaN     NaN  missing  401840                es   \n",
       "\n",
       "      original_title                                           overview  \\\n",
       "42828   School's out  Two high school kids mentored by a nightclub o...   \n",
       "\n",
       "       popularity production_companies  ... release_date revenue  runtime  \\\n",
       "42828    0.207775              missing  ...   2017-05-30     NaN      NaN   \n",
       "\n",
       "       spoken_languages    status tagline         title  video vote_average  \\\n",
       "42828           missing  Released     NaN  School's out  False          0.0   \n",
       "\n",
       "       vote_count  \n",
       "42828         0.0  \n",
       "\n",
       "[1 rows x 21 columns]"
      ]
     },
     "execution_count": 110,
     "metadata": {},
     "output_type": "execute_result"
    }
   ],
   "source": [
    "movies_metadata[~movies_metadata.id.isin(credits.id)]"
   ]
  },
  {
   "cell_type": "code",
   "execution_count": null,
   "id": "76e1bde1",
   "metadata": {},
   "outputs": [],
   "source": [
    "#droping row that we dont have enogh information on and we dont have it on crew and cast \n"
   ]
  },
  {
   "cell_type": "code",
   "execution_count": 111,
   "id": "46a61f7c",
   "metadata": {},
   "outputs": [],
   "source": [
    "movies_metadata.drop(42828,inplace=True)"
   ]
  },
  {
   "cell_type": "code",
   "execution_count": 112,
   "id": "ca688b24",
   "metadata": {},
   "outputs": [
    {
     "data": {
      "text/html": [
       "<div>\n",
       "<style scoped>\n",
       "    .dataframe tbody tr th:only-of-type {\n",
       "        vertical-align: middle;\n",
       "    }\n",
       "\n",
       "    .dataframe tbody tr th {\n",
       "        vertical-align: top;\n",
       "    }\n",
       "\n",
       "    .dataframe thead th {\n",
       "        text-align: right;\n",
       "    }\n",
       "</style>\n",
       "<table border=\"1\" class=\"dataframe\">\n",
       "  <thead>\n",
       "    <tr style=\"text-align: right;\">\n",
       "      <th></th>\n",
       "      <th>cast</th>\n",
       "      <th>crew</th>\n",
       "      <th>id</th>\n",
       "      <th>cast_names</th>\n",
       "      <th>cast_main_name</th>\n",
       "      <th>cast_main_gender</th>\n",
       "      <th>Director</th>\n",
       "      <th>Writers</th>\n",
       "      <th>Producer</th>\n",
       "    </tr>\n",
       "  </thead>\n",
       "  <tbody>\n",
       "    <tr>\n",
       "      <th>5636</th>\n",
       "      <td>[{'cast_id': 1, 'character': 'Nick Monroe', 'c...</td>\n",
       "      <td>[{'credit_id': '52fe45c5c3a368484e06e10f', 'de...</td>\n",
       "      <td>29072</td>\n",
       "      <td>Jamie Gillis|Samantha Grey|Ryan Hilliard|Richa...</td>\n",
       "      <td>Jamie Gillis</td>\n",
       "      <td>M</td>\n",
       "      <td>Joel M. Reed</td>\n",
       "      <td>Joel M. Reed</td>\n",
       "      <td>Lorin E. Price</td>\n",
       "    </tr>\n",
       "    <tr>\n",
       "      <th>13032</th>\n",
       "      <td>[{'cast_id': 2, 'character': 'Tetsuo', 'credit...</td>\n",
       "      <td>[{'credit_id': '52fe4e639251416c75154d21', 'de...</td>\n",
       "      <td>225614</td>\n",
       "      <td>Masatoshi Nagase|Rentarô Mikuni|Emi Wakui|Miek...</td>\n",
       "      <td>Masatoshi Nagase</td>\n",
       "      <td>M</td>\n",
       "      <td>Yôji Yamada</td>\n",
       "      <td></td>\n",
       "      <td>NaN</td>\n",
       "    </tr>\n",
       "    <tr>\n",
       "      <th>13839</th>\n",
       "      <td>[{'cast_id': 1001, 'character': 'Himself', 'cr...</td>\n",
       "      <td>[{'credit_id': '52fe48c79251416c750b3149', 'de...</td>\n",
       "      <td>91205</td>\n",
       "      <td>Kanye West|Tego Calderón|Raekwon|Paul Wall</td>\n",
       "      <td>Kanye West</td>\n",
       "      <td>M</td>\n",
       "      <td>Raquel Cepeda</td>\n",
       "      <td></td>\n",
       "      <td>NaN</td>\n",
       "    </tr>\n",
       "    <tr>\n",
       "      <th>14890</th>\n",
       "      <td>[]</td>\n",
       "      <td>[{'credit_id': '52fe4d50c3a36847f825a623', 'de...</td>\n",
       "      <td>174748</td>\n",
       "      <td>NaN</td>\n",
       "      <td>NaN</td>\n",
       "      <td>NaN</td>\n",
       "      <td>Leif Erlsboe</td>\n",
       "      <td></td>\n",
       "      <td>NaN</td>\n",
       "    </tr>\n",
       "    <tr>\n",
       "      <th>16836</th>\n",
       "      <td>[]</td>\n",
       "      <td>[]</td>\n",
       "      <td>442417</td>\n",
       "      <td>NaN</td>\n",
       "      <td>NaN</td>\n",
       "      <td>NaN</td>\n",
       "      <td>NaN</td>\n",
       "      <td>NaN</td>\n",
       "      <td>NaN</td>\n",
       "    </tr>\n",
       "    <tr>\n",
       "      <th>...</th>\n",
       "      <td>...</td>\n",
       "      <td>...</td>\n",
       "      <td>...</td>\n",
       "      <td>...</td>\n",
       "      <td>...</td>\n",
       "      <td>...</td>\n",
       "      <td>...</td>\n",
       "      <td>...</td>\n",
       "      <td>...</td>\n",
       "    </tr>\n",
       "    <tr>\n",
       "      <th>43972</th>\n",
       "      <td>[]</td>\n",
       "      <td>[]</td>\n",
       "      <td>400796</td>\n",
       "      <td>NaN</td>\n",
       "      <td>NaN</td>\n",
       "      <td>NaN</td>\n",
       "      <td>NaN</td>\n",
       "      <td>NaN</td>\n",
       "      <td>NaN</td>\n",
       "    </tr>\n",
       "    <tr>\n",
       "      <th>44871</th>\n",
       "      <td>[{'cast_id': 0, 'character': '', 'credit_id': ...</td>\n",
       "      <td>[]</td>\n",
       "      <td>334795</td>\n",
       "      <td>Viktor Tsoy</td>\n",
       "      <td>Viktor Tsoy</td>\n",
       "      <td>NaN</td>\n",
       "      <td>NaN</td>\n",
       "      <td>NaN</td>\n",
       "      <td>NaN</td>\n",
       "    </tr>\n",
       "    <tr>\n",
       "      <th>45080</th>\n",
       "      <td>[]</td>\n",
       "      <td>[]</td>\n",
       "      <td>439314</td>\n",
       "      <td>NaN</td>\n",
       "      <td>NaN</td>\n",
       "      <td>NaN</td>\n",
       "      <td>NaN</td>\n",
       "      <td>NaN</td>\n",
       "      <td>NaN</td>\n",
       "    </tr>\n",
       "    <tr>\n",
       "      <th>45348</th>\n",
       "      <td>[]</td>\n",
       "      <td>[]</td>\n",
       "      <td>335251</td>\n",
       "      <td>NaN</td>\n",
       "      <td>NaN</td>\n",
       "      <td>NaN</td>\n",
       "      <td>NaN</td>\n",
       "      <td>NaN</td>\n",
       "      <td>NaN</td>\n",
       "    </tr>\n",
       "    <tr>\n",
       "      <th>45442</th>\n",
       "      <td>[]</td>\n",
       "      <td>[{'credit_id': '5704ab009251417dab000c1f', 'de...</td>\n",
       "      <td>323132</td>\n",
       "      <td>NaN</td>\n",
       "      <td>NaN</td>\n",
       "      <td>NaN</td>\n",
       "      <td>Robert Gardner</td>\n",
       "      <td></td>\n",
       "      <td>NaN</td>\n",
       "    </tr>\n",
       "  </tbody>\n",
       "</table>\n",
       "<p>69 rows × 9 columns</p>\n",
       "</div>"
      ],
      "text/plain": [
       "                                                    cast  \\\n",
       "5636   [{'cast_id': 1, 'character': 'Nick Monroe', 'c...   \n",
       "13032  [{'cast_id': 2, 'character': 'Tetsuo', 'credit...   \n",
       "13839  [{'cast_id': 1001, 'character': 'Himself', 'cr...   \n",
       "14890                                                 []   \n",
       "16836                                                 []   \n",
       "...                                                  ...   \n",
       "43972                                                 []   \n",
       "44871  [{'cast_id': 0, 'character': '', 'credit_id': ...   \n",
       "45080                                                 []   \n",
       "45348                                                 []   \n",
       "45442                                                 []   \n",
       "\n",
       "                                                    crew      id  \\\n",
       "5636   [{'credit_id': '52fe45c5c3a368484e06e10f', 'de...   29072   \n",
       "13032  [{'credit_id': '52fe4e639251416c75154d21', 'de...  225614   \n",
       "13839  [{'credit_id': '52fe48c79251416c750b3149', 'de...   91205   \n",
       "14890  [{'credit_id': '52fe4d50c3a36847f825a623', 'de...  174748   \n",
       "16836                                                 []  442417   \n",
       "...                                                  ...     ...   \n",
       "43972                                                 []  400796   \n",
       "44871                                                 []  334795   \n",
       "45080                                                 []  439314   \n",
       "45348                                                 []  335251   \n",
       "45442  [{'credit_id': '5704ab009251417dab000c1f', 'de...  323132   \n",
       "\n",
       "                                              cast_names    cast_main_name  \\\n",
       "5636   Jamie Gillis|Samantha Grey|Ryan Hilliard|Richa...      Jamie Gillis   \n",
       "13032  Masatoshi Nagase|Rentarô Mikuni|Emi Wakui|Miek...  Masatoshi Nagase   \n",
       "13839         Kanye West|Tego Calderón|Raekwon|Paul Wall        Kanye West   \n",
       "14890                                                NaN               NaN   \n",
       "16836                                                NaN               NaN   \n",
       "...                                                  ...               ...   \n",
       "43972                                                NaN               NaN   \n",
       "44871                                        Viktor Tsoy       Viktor Tsoy   \n",
       "45080                                                NaN               NaN   \n",
       "45348                                                NaN               NaN   \n",
       "45442                                                NaN               NaN   \n",
       "\n",
       "      cast_main_gender        Director       Writers        Producer  \n",
       "5636                 M    Joel M. Reed  Joel M. Reed  Lorin E. Price  \n",
       "13032                M     Yôji Yamada                           NaN  \n",
       "13839                M   Raquel Cepeda                           NaN  \n",
       "14890              NaN    Leif Erlsboe                           NaN  \n",
       "16836              NaN             NaN           NaN             NaN  \n",
       "...                ...             ...           ...             ...  \n",
       "43972              NaN             NaN           NaN             NaN  \n",
       "44871              NaN             NaN           NaN             NaN  \n",
       "45080              NaN             NaN           NaN             NaN  \n",
       "45348              NaN             NaN           NaN             NaN  \n",
       "45442              NaN  Robert Gardner                           NaN  \n",
       "\n",
       "[69 rows x 9 columns]"
      ]
     },
     "execution_count": 112,
     "metadata": {},
     "output_type": "execute_result"
    }
   ],
   "source": [
    "credits[~credits.id.isin(movies_metadata.id)]"
   ]
  },
  {
   "cell_type": "code",
   "execution_count": 113,
   "id": "4cd5e6be",
   "metadata": {},
   "outputs": [],
   "source": [
    "movies_metadata = movies_metadata.merge(credits , how = 'left' , left_on = 'id' , right_on = 'id')"
   ]
  },
  {
   "cell_type": "code",
   "execution_count": 114,
   "id": "d10f5965",
   "metadata": {},
   "outputs": [
    {
     "data": {
      "text/html": [
       "<div>\n",
       "<style scoped>\n",
       "    .dataframe tbody tr th:only-of-type {\n",
       "        vertical-align: middle;\n",
       "    }\n",
       "\n",
       "    .dataframe tbody tr th {\n",
       "        vertical-align: top;\n",
       "    }\n",
       "\n",
       "    .dataframe thead th {\n",
       "        text-align: right;\n",
       "    }\n",
       "</style>\n",
       "<table border=\"1\" class=\"dataframe\">\n",
       "  <thead>\n",
       "    <tr style=\"text-align: right;\">\n",
       "      <th></th>\n",
       "      <th>adult</th>\n",
       "      <th>belongs_to_collection</th>\n",
       "      <th>budget</th>\n",
       "      <th>genres</th>\n",
       "      <th>id</th>\n",
       "      <th>original_language</th>\n",
       "      <th>original_title</th>\n",
       "      <th>overview</th>\n",
       "      <th>popularity</th>\n",
       "      <th>production_companies</th>\n",
       "      <th>...</th>\n",
       "      <th>vote_average</th>\n",
       "      <th>vote_count</th>\n",
       "      <th>cast</th>\n",
       "      <th>crew</th>\n",
       "      <th>cast_names</th>\n",
       "      <th>cast_main_name</th>\n",
       "      <th>cast_main_gender</th>\n",
       "      <th>Director</th>\n",
       "      <th>Writers</th>\n",
       "      <th>Producer</th>\n",
       "    </tr>\n",
       "  </thead>\n",
       "  <tbody>\n",
       "  </tbody>\n",
       "</table>\n",
       "<p>0 rows × 29 columns</p>\n",
       "</div>"
      ],
      "text/plain": [
       "Empty DataFrame\n",
       "Columns: [adult, belongs_to_collection, budget, genres, id, original_language, original_title, overview, popularity, production_companies, production_countries, release_date, revenue, runtime, spoken_languages, status, tagline, title, video, vote_average, vote_count, cast, crew, cast_names, cast_main_name, cast_main_gender, Director, Writers, Producer]\n",
       "Index: []\n",
       "\n",
       "[0 rows x 29 columns]"
      ]
     },
     "execution_count": 114,
     "metadata": {},
     "output_type": "execute_result"
    }
   ],
   "source": [
    "movies_metadata[~movies_metadata.id.isin(kewords.id)]"
   ]
  },
  {
   "cell_type": "code",
   "execution_count": 115,
   "id": "13a77e64",
   "metadata": {},
   "outputs": [],
   "source": [
    "movies_metadata = movies_metadata.merge(kewords , how = 'left' , left_on = 'id' , right_on = 'id')"
   ]
  },
  {
   "cell_type": "code",
   "execution_count": 118,
   "id": "3b7d3065",
   "metadata": {},
   "outputs": [
    {
     "data": {
      "text/html": [
       "<div>\n",
       "<style scoped>\n",
       "    .dataframe tbody tr th:only-of-type {\n",
       "        vertical-align: middle;\n",
       "    }\n",
       "\n",
       "    .dataframe tbody tr th {\n",
       "        vertical-align: top;\n",
       "    }\n",
       "\n",
       "    .dataframe thead th {\n",
       "        text-align: right;\n",
       "    }\n",
       "</style>\n",
       "<table border=\"1\" class=\"dataframe\">\n",
       "  <thead>\n",
       "    <tr style=\"text-align: right;\">\n",
       "      <th></th>\n",
       "      <th>adult</th>\n",
       "      <th>belongs_to_collection</th>\n",
       "      <th>budget</th>\n",
       "      <th>genres</th>\n",
       "      <th>id</th>\n",
       "      <th>original_language</th>\n",
       "      <th>original_title</th>\n",
       "      <th>overview</th>\n",
       "      <th>popularity</th>\n",
       "      <th>production_companies</th>\n",
       "      <th>...</th>\n",
       "      <th>video</th>\n",
       "      <th>vote_average</th>\n",
       "      <th>vote_count</th>\n",
       "      <th>cast_names</th>\n",
       "      <th>cast_main_name</th>\n",
       "      <th>cast_main_gender</th>\n",
       "      <th>Director</th>\n",
       "      <th>Writers</th>\n",
       "      <th>Producer</th>\n",
       "      <th>keywords</th>\n",
       "    </tr>\n",
       "  </thead>\n",
       "  <tbody>\n",
       "    <tr>\n",
       "      <th>0</th>\n",
       "      <td>False</td>\n",
       "      <td>Toy Story Collection</td>\n",
       "      <td>30.0</td>\n",
       "      <td>Animation|Comedy|Family</td>\n",
       "      <td>862</td>\n",
       "      <td>en</td>\n",
       "      <td>Toy Story</td>\n",
       "      <td>Led by Woody, Andy's toys live happily in his ...</td>\n",
       "      <td>21.946943</td>\n",
       "      <td>Pixar Animation Studios</td>\n",
       "      <td>...</td>\n",
       "      <td>False</td>\n",
       "      <td>7.7</td>\n",
       "      <td>5415.0</td>\n",
       "      <td>Tom Hanks|Tim Allen|Don Rickles|Jim Varney</td>\n",
       "      <td>Tom Hanks</td>\n",
       "      <td>M</td>\n",
       "      <td>NaN</td>\n",
       "      <td>NaN</td>\n",
       "      <td>NaN</td>\n",
       "      <td>jealousy|toy|boy|friendship|friends|rivalry|bo...</td>\n",
       "    </tr>\n",
       "    <tr>\n",
       "      <th>1</th>\n",
       "      <td>False</td>\n",
       "      <td>NaN</td>\n",
       "      <td>65.0</td>\n",
       "      <td>Adventure|Fantasy|Family</td>\n",
       "      <td>8844</td>\n",
       "      <td>en</td>\n",
       "      <td>Jumanji</td>\n",
       "      <td>When siblings Judy and Peter discover an encha...</td>\n",
       "      <td>17.015539</td>\n",
       "      <td>TriStar Pictures|Teitler Film|Interscope Commu...</td>\n",
       "      <td>...</td>\n",
       "      <td>False</td>\n",
       "      <td>6.9</td>\n",
       "      <td>2413.0</td>\n",
       "      <td>Robin Williams|Jonathan Hyde|Kirsten Dunst|Bra...</td>\n",
       "      <td>Robin Williams</td>\n",
       "      <td>M</td>\n",
       "      <td>Joe Johnston</td>\n",
       "      <td>Jonathan Hensleigh|Chris van Allsburg|Greg Tay...</td>\n",
       "      <td>William Teitler</td>\n",
       "      <td>NaN</td>\n",
       "    </tr>\n",
       "    <tr>\n",
       "      <th>2</th>\n",
       "      <td>False</td>\n",
       "      <td>Grumpy Old Men Collection</td>\n",
       "      <td>NaN</td>\n",
       "      <td>Romance|Comedy</td>\n",
       "      <td>15602</td>\n",
       "      <td>en</td>\n",
       "      <td>Grumpier Old Men</td>\n",
       "      <td>A family wedding reignites the ancient feud be...</td>\n",
       "      <td>11.712900</td>\n",
       "      <td>Warner Bros.|Lancaster Gate</td>\n",
       "      <td>...</td>\n",
       "      <td>False</td>\n",
       "      <td>6.5</td>\n",
       "      <td>92.0</td>\n",
       "      <td>Walter Matthau|Jack Lemmon|Ann-Margret|Sophia ...</td>\n",
       "      <td>Walter Matthau</td>\n",
       "      <td>M</td>\n",
       "      <td>Howard Deutch</td>\n",
       "      <td>Mark Steven Johnson|Mark Steven Johnson</td>\n",
       "      <td>NaN</td>\n",
       "      <td>fishing|best friend|duringcreditsstinger|old men</td>\n",
       "    </tr>\n",
       "  </tbody>\n",
       "</table>\n",
       "<p>3 rows × 28 columns</p>\n",
       "</div>"
      ],
      "text/plain": [
       "   adult      belongs_to_collection  budget                    genres     id  \\\n",
       "0  False       Toy Story Collection    30.0   Animation|Comedy|Family    862   \n",
       "1  False                        NaN    65.0  Adventure|Fantasy|Family   8844   \n",
       "2  False  Grumpy Old Men Collection     NaN            Romance|Comedy  15602   \n",
       "\n",
       "  original_language    original_title  \\\n",
       "0                en         Toy Story   \n",
       "1                en           Jumanji   \n",
       "2                en  Grumpier Old Men   \n",
       "\n",
       "                                            overview  popularity  \\\n",
       "0  Led by Woody, Andy's toys live happily in his ...   21.946943   \n",
       "1  When siblings Judy and Peter discover an encha...   17.015539   \n",
       "2  A family wedding reignites the ancient feud be...   11.712900   \n",
       "\n",
       "                                production_companies  ...  video vote_average  \\\n",
       "0                            Pixar Animation Studios  ...  False          7.7   \n",
       "1  TriStar Pictures|Teitler Film|Interscope Commu...  ...  False          6.9   \n",
       "2                        Warner Bros.|Lancaster Gate  ...  False          6.5   \n",
       "\n",
       "   vote_count                                         cast_names  \\\n",
       "0      5415.0         Tom Hanks|Tim Allen|Don Rickles|Jim Varney   \n",
       "1      2413.0  Robin Williams|Jonathan Hyde|Kirsten Dunst|Bra...   \n",
       "2        92.0  Walter Matthau|Jack Lemmon|Ann-Margret|Sophia ...   \n",
       "\n",
       "   cast_main_name cast_main_gender       Director  \\\n",
       "0       Tom Hanks                M            NaN   \n",
       "1  Robin Williams                M   Joe Johnston   \n",
       "2  Walter Matthau                M  Howard Deutch   \n",
       "\n",
       "                                             Writers         Producer  \\\n",
       "0                                                NaN              NaN   \n",
       "1  Jonathan Hensleigh|Chris van Allsburg|Greg Tay...  William Teitler   \n",
       "2            Mark Steven Johnson|Mark Steven Johnson              NaN   \n",
       "\n",
       "                                            keywords  \n",
       "0  jealousy|toy|boy|friendship|friends|rivalry|bo...  \n",
       "1                                                NaN  \n",
       "2   fishing|best friend|duringcreditsstinger|old men  \n",
       "\n",
       "[3 rows x 28 columns]"
      ]
     },
     "execution_count": 118,
     "metadata": {},
     "output_type": "execute_result"
    }
   ],
   "source": [
    "movies_metadata.head(3)"
   ]
  },
  {
   "cell_type": "code",
   "execution_count": 117,
   "id": "fb65c9be",
   "metadata": {},
   "outputs": [],
   "source": [
    "movies_metadata.drop(['cast','crew'],axis=1,inplace=True)"
   ]
  },
  {
   "cell_type": "code",
   "execution_count": 120,
   "id": "af16892c",
   "metadata": {},
   "outputs": [],
   "source": [
    "movies_metadata.to_csv(path_or_buf=r'C:\\Users\\saadb\\recommendation_project\\jupyter_notebook\\datasets\\complete_dataset_.csv',index=False)"
   ]
  }
 ],
 "metadata": {
  "kernelspec": {
   "display_name": "Python 3 (ipykernel)",
   "language": "python",
   "name": "python3"
  },
  "language_info": {
   "codemirror_mode": {
    "name": "ipython",
    "version": 3
   },
   "file_extension": ".py",
   "mimetype": "text/x-python",
   "name": "python",
   "nbconvert_exporter": "python",
   "pygments_lexer": "ipython3",
   "version": "3.9.13"
  }
 },
 "nbformat": 4,
 "nbformat_minor": 5
}
